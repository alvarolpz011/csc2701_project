{
 "cells": [
  {
   "cell_type": "code",
   "execution_count": 2,
   "metadata": {},
   "outputs": [
    {
     "name": "stderr",
     "output_type": "stream",
     "text": [
      "/Users/adityashukzy/Documents/GitHub/csc2701_project/.venv/lib/python3.13/site-packages/tqdm/auto.py:21: TqdmWarning: IProgress not found. Please update jupyter and ipywidgets. See https://ipywidgets.readthedocs.io/en/stable/user_install.html\n",
      "  from .autonotebook import tqdm as notebook_tqdm\n"
     ]
    }
   ],
   "source": "from src.rag_architecture.rag import RAG"
  },
  {
   "cell_type": "code",
   "execution_count": 3,
   "metadata": {},
   "outputs": [],
   "source": [
    "rag = RAG(\n",
    "    embedding_model_name='all-MiniLM-L6-v2',\n",
    "    language_model_name='gemini-2.5-flash-lite'\n",
    ")"
   ]
  },
  {
   "cell_type": "code",
   "execution_count": 4,
   "metadata": {},
   "outputs": [
    {
     "name": "stdout",
     "output_type": "stream",
     "text": [
      "You are a helpful assistant that answers questions about the Master of Science in Applied Computing (MScAC) program offered by the University of Toronto.\n",
      "\n",
      "Your knowledge is based exclusively on the MScAC Student Handbook and related program documentation. You can help with information about:\n",
      "- Program requirements and structure\n",
      "- Concentrations (Applied Mathematics, Artificial Intelligence in Healthcare, Data Science, Data Science for Biology, Quantum Computing)\n",
      "- Academic policies and deadlines\n",
      "- Student resources and support\n",
      "- Contact information for faculty and staff\n",
      "- Campus facilities and locations\n",
      "\n",
      "Instructions:\n",
      "- Answer the question using ONLY the information from the context below\n",
      "- If the context doesn't contain enough information to answer the question, explicitly state this\n",
      "- Be concise and accurate in your response\n",
      "- Do not make up or infer information beyond what is provided\n",
      "- If relevant, cite which parts of the context support your answer\n",
      "\n",
      "Context:\n",
      "[1] Changing Your Concentration The concentration you have been admitted to is the one the admissions committee felt your academic background and additional experience were best suited to. Requests to switch concentration will be handled on a case-by-case basis and are subject to approval by the MScAC Academic Director, Professional Programs and respective concentration lead. To request a change of concentration, you should submit your request and supporting rationale in writing to the Associate Director, MScAC Administration via: https://forms.office.com/r/PzbAjN88aX\n",
      "\n",
      "[2] IMPORTANT CONTACTS ROLE NAME Academic Director, Professional Programs Arvind Gupta Associate Chair, Graduate Students Faith Ellen Associate Chair, Graduate Operations Angela Demke Brown Associate Director, Academic Paul Gries Concentration Lead, Applied Mathematics Mary Pugh Concentration Lead, Artificial Intelligence in Healthcare Anna Goldenberg Concentration Lead, Data Science Meredith Franklin Concentration Lead, Data Science for Biology Qian Lin Concentration Lead, Quantum Computing TBA Associate Director, Partnerships Daniel Giovannini Development Officer Research and Business Maurizio Ficocelli Development Officer Research and Business Sulav Sharma Development Officer Research and Business Daniele Chirico Development Officer Research and Business Murtuza Rajkotwala Development Officer Research and Business Siphelele Danisa Associate Director, MScAC Administration Claire Mosses Interim Program Manager,\n",
      "\n",
      "[3] COURSE SELECTION Applied Mathematics Concentration Students are required to complete: • 2 graduate courses (1.0 FCE) from the Department of Computer Science course schedule in two different groups • 2 graduate courses (1.0 FCE) from the Department of Mathematics at 1000-level or higher 7 Course from other departments may be eligible to fulfill the mathematics requirements. Course selection must be approved by the Applied Mathematics Concentration Lead. Artificial Intelligence Concentration Students are required to complete: • Two graduate courses (1.0 FCE) from the core list of Artificial Intelligence courses. • One graduate course (0.5 FCE) selected from Group 2 (AI) courses outside the core list. • One graduate course (0.5 FCE) chosen from Groups 1, 3, or 4 (outside of AI). Students may request a waiver of one AI core course requirement by demonstrating mastery of equivalent material (usually evidenced through completion of courses at senior undergraduate level). Waivers are usually applied for during the study plan submission process. All waivers are subject to approval of the Academic Director, Professional Programs. The waiver does not reduce the number of courses students are required to take. Instead, it allows students to take an additional AI course outside the core list. In all cases, students must complete 1.5 FCE in AI courses. Core Artificial Intelligence Courses Course Code Course Title AER1513H State Estimation for Aerospace Vehicles AER1517H Control for Robotics CSC2501H Computational Linguistics CSC2502H Knowledge Representation and Reasoning CSC2503H Foundations of Computer Vision CSC2511H Natural Language Computing CSC2515H* Introduction to Machine Learning (exclusion: ECE1513H) CSC2516H** Neural Networks and Deep Learning (exclusion: MIE1517H) CSC2529H Computational Imaging CSC2533H Foundations of Knowledge Representation CSC2630H Introduction to Mobile Robotics ECE1512H Digital Image Processing and Applications ECE1513H* Introduction to Machine Learning (exclusion: CSC2515H) MAT1510H Deep Learning, Theory and Data Science MIE1517H** Introduction to Deep Learning (exclusion: CSC2516H) Courses from other departments may be eligible to fulfill the non-core AI/non-AI course requirements. Course selection must be approved by the Associate Director, Academic.\n",
      "\n",
      "Question: \n",
      "Is it possible for me to change my concentration? If so, who do I need to get it approved by? What's their email?\n",
      "I am interested in internships offered via the Quantum Computing concentration.\n",
      "\n",
      "\n",
      "Answer:\n",
      "\n",
      "================================================================================\n",
      "ANSWER:\n",
      "================================================================================\n",
      "Yes, it is possible to change your concentration. Requests to switch concentration are handled on a case-by-case basis and are subject to approval by the MScAC Academic Director, Professional Programs and the respective concentration lead. To request a change of concentration, you should submit your request and supporting rationale in writing to the Associate Director, MScAC Administration via the provided form: https://forms.office.com/r/PzbAjN88aX.\n",
      "\n",
      "The context does not provide an email address for the Associate Director, MScAC Administration.\n",
      "\n",
      "The context does not contain information about internships offered via the Quantum Computing concentration.\n"
     ]
    }
   ],
   "source": [
    "query_1 = \"\"\"\n",
    "Is it possible for me to change my concentration? If so, who do I need to get it approved by? What's their email?\n",
    "I am interested in internships offered via the Quantum Computing concentration.\n",
    "\"\"\"\n",
    "\n",
    "response_1 = rag(query_1, top_k=3)\n",
    "print(\"\\n\" + \"=\"*80)\n",
    "print(\"ANSWER:\")\n",
    "print(\"=\"*80)\n",
    "print(response_1)"
   ]
  },
  {
   "cell_type": "code",
   "execution_count": 5,
   "metadata": {},
   "outputs": [
    {
     "name": "stdout",
     "output_type": "stream",
     "text": [
      "You are a helpful assistant that answers questions about the Master of Science in Applied Computing (MScAC) program offered by the University of Toronto.\n",
      "\n",
      "Your knowledge is based exclusively on the MScAC Student Handbook and related program documentation. You can help with information about:\n",
      "- Program requirements and structure\n",
      "- Concentrations (Applied Mathematics, Artificial Intelligence in Healthcare, Data Science, Data Science for Biology, Quantum Computing)\n",
      "- Academic policies and deadlines\n",
      "- Student resources and support\n",
      "- Contact information for faculty and staff\n",
      "- Campus facilities and locations\n",
      "\n",
      "Instructions:\n",
      "- Answer the question using ONLY the information from the context below\n",
      "- If the context doesn't contain enough information to answer the question, explicitly state this\n",
      "- Be concise and accurate in your response\n",
      "- Do not make up or infer information beyond what is provided\n",
      "- If relevant, cite which parts of the context support your answer\n",
      "\n",
      "Context:\n",
      "[1] Artificial Intelligence in Healthcare Concentration Students are required to complete: • 1 graduate course (0.5 FCE) in Data Science from the approved list. • 1 graduate course (0.5 FCE) from the approved list of Artificial Intelligence courses. • 1 graduate course (0.5 FCE) from the approved list of courses in Group 3. • 1 graduate course (0.5 FCE) from the approved list of LMP/MHI coursework from the approved list. Due to the variance of course schedule availability, approved courses will be provided during the study plan solicitation process. Course selection must be approved by the Artificial Intelligence in Healthcare Concentration Lead. 8 Computer Science Concentration Students are required to complete: • 4 graduate courses (2.0 FCE) from at least 2 of the 4 course groups. A maximum of 1 course (0.5 FCE) from Group 2 (AI) will be counted towards the program requirements. • 2 courses (1.0 FCE) must be from the Computer Science timetable (i.e. CSCXXXX course code). • 2 courses (1.0 FCE) may be chosen from other departments pending approval by the MScAC program. Data Science Concentration Students are required to complete: • 2 graduate courses (1.0 FCE) from the Department of Computer Science course listings in two different groups. • 2 graduate courses (1.0 FCE) chosen from the STA2000-level courses or higher. This must include STA2453H Data Science Methods, Collaboration and Communication. A maximum of 0.5 FCE may be chosen from the STA4500-level of six-week modular courses. Note that some courses at STA4500 level and higher are six-week modular courses weighted at 0.25 FCE each. Courses from other departments may be eligible to fulfill the statistics requirements. Course selection must be approved by the Data Science Concentration Lead. Data Science for Biology Students are required to complete: • 2 graduate courses (1.0 FCE) from the Department of Computer Science course listings in two different groups. • 1 graduate course (0.5 FCE) from the Department of Cell & Systems Biology. • 1 graduate course (0.5 FCE) with a focus on computational biology or bioinformatics chosen from the approved course lists from the following departments: Cell & Systems Biology, Ecology & Evolutionary Biology, Molecular Genetics or Statistics. Quantum Computing Concentration Students are required to complete: • 2 graduate courses (1.0 FCE) from the Department of Computer Science course listings in two different groups. • 2 graduate courses (1.0 FCE) from the Department of Physics. Courses from other departments may be eligible to fulfil the physics requirements.\n",
      "\n",
      "[2] COURSE SELECTION Applied Mathematics Concentration Students are required to complete: • 2 graduate courses (1.0 FCE) from the Department of Computer Science course schedule in two different groups • 2 graduate courses (1.0 FCE) from the Department of Mathematics at 1000-level or higher 7 Course from other departments may be eligible to fulfill the mathematics requirements. Course selection must be approved by the Applied Mathematics Concentration Lead. Artificial Intelligence Concentration Students are required to complete: • Two graduate courses (1.0 FCE) from the core list of Artificial Intelligence courses. • One graduate course (0.5 FCE) selected from Group 2 (AI) courses outside the core list. • One graduate course (0.5 FCE) chosen from Groups 1, 3, or 4 (outside of AI). Students may request a waiver of one AI core course requirement by demonstrating mastery of equivalent material (usually evidenced through completion of courses at senior undergraduate level). Waivers are usually applied for during the study plan submission process. All waivers are subject to approval of the Academic Director, Professional Programs. The waiver does not reduce the number of courses students are required to take. Instead, it allows students to take an additional AI course outside the core list. In all cases, students must complete 1.5 FCE in AI courses. Core Artificial Intelligence Courses Course Code Course Title AER1513H State Estimation for Aerospace Vehicles AER1517H Control for Robotics CSC2501H Computational Linguistics CSC2502H Knowledge Representation and Reasoning CSC2503H Foundations of Computer Vision CSC2511H Natural Language Computing CSC2515H* Introduction to Machine Learning (exclusion: ECE1513H) CSC2516H** Neural Networks and Deep Learning (exclusion: MIE1517H) CSC2529H Computational Imaging CSC2533H Foundations of Knowledge Representation CSC2630H Introduction to Mobile Robotics ECE1512H Digital Image Processing and Applications ECE1513H* Introduction to Machine Learning (exclusion: CSC2515H) MAT1510H Deep Learning, Theory and Data Science MIE1517H** Introduction to Deep Learning (exclusion: CSC2516H) Courses from other departments may be eligible to fulfill the non-core AI/non-AI course requirements. Course selection must be approved by the Associate Director, Academic.\n",
      "\n",
      "[3] COURSE REQUIREMENTS Students will spend the first eight months (two semesters) of the program completing their technical graduate courses as well as CSC2701H (Communication for Computer Scientists). CSC2702H (Technical Entrepreneurship) will be completed during the second eight months, normally in conjunction with the full-time applied research internship. All students must complete a minimum of four technical graduate courses, in accordance with their concentration requirements. These must be equivalent to at least 2.0 Full Course Equivalents (FCEs) and all students must show satisfactory academic progress (defined as a minimum passing grade of B- (70%) in each course). If a student has not made satisfactory academic progress by the end of the second semester, they must immediately contact the Associate Director, MScAC Administration to determine the options and next steps. It is an individual student’s responsibility to ensure course selection meets the requirements of the concentration they are registered in. Degree Explorer should be utilized to ensure requirements are met. Students who have not met their concentration requirements by the end of the second semester will be required to take additional courses. Only students who make satisfactory academic progress in the first two semesters may proceed to the internship component of the program.\n",
      "\n",
      "Question: \n",
      "How many courses do I need to take for the Data Science concentration?\n",
      "\n",
      "\n",
      "Answer:\n",
      "\n",
      "================================================================================\n",
      "ANSWER:\n",
      "================================================================================\n",
      "For the Data Science concentration, you are required to complete:\n",
      "*   2 graduate courses (1.0 FCE) from the Department of Computer Science course listings in two different groups.\n",
      "*   2 graduate courses (1.0 FCE) chosen from STA2000-level courses or higher, which must include STA2453H Data Science Methods, Collaboration and Communication. A maximum of 0.5 FCE can be from STA4500-level six-week modular courses.\n",
      "\n",
      "This totals 4 graduate courses (2.0 FCE). [1]\n"
     ]
    }
   ],
   "source": [
    "query_2 = \"\"\"\n",
    "How many courses do I need to take for the Data Science concentration?\n",
    "\"\"\"\n",
    "\n",
    "response_2 = rag(query_2, top_k=3)\n",
    "print(\"\\n\" + \"=\"*80)\n",
    "print(\"ANSWER:\")\n",
    "print(\"=\"*80)\n",
    "print(response_2)"
   ]
  },
  {
   "cell_type": "code",
   "execution_count": 6,
   "metadata": {},
   "outputs": [
    {
     "name": "stdout",
     "output_type": "stream",
     "text": [
      "You are a helpful assistant that answers questions about the Master of Science in Applied Computing (MScAC) program offered by the University of Toronto.\n",
      "\n",
      "Your knowledge is based exclusively on the MScAC Student Handbook and related program documentation. You can help with information about:\n",
      "- Program requirements and structure\n",
      "- Concentrations (Applied Mathematics, Artificial Intelligence in Healthcare, Data Science, Data Science for Biology, Quantum Computing)\n",
      "- Academic policies and deadlines\n",
      "- Student resources and support\n",
      "- Contact information for faculty and staff\n",
      "- Campus facilities and locations\n",
      "\n",
      "Instructions:\n",
      "- Answer the question using ONLY the information from the context below\n",
      "- If the context doesn't contain enough information to answer the question, explicitly state this\n",
      "- Be concise and accurate in your response\n",
      "- Do not make up or infer information beyond what is provided\n",
      "- If relevant, cite which parts of the context support your answer\n",
      "\n",
      "Context:\n",
      "[1] THE INTERNSHIP PROCESS The last eight months of the MScAC program are spent undertaking an applied research internship. This internship is a formal requirement of the program. The internship can only be started after satisfactory academic progress in the coursework is confirmed. Work Permit All international students must ensure that they hold a valid work permit allowing for full-time employment with an industry partner in Canada during the internship period (normally May 1 – December 31). Most students will apply for a co-op work permit. This should be applied for at the same time as the study permit, so that the required documentation is in place from the start of the program. If the work permit is not issued on arrival at the port-of-entry (normally Toronto), contact the Associate Director, MScAC Administration for an updated letter so a work permit application can be submitted in Canada as quickly as possible. Details on how to apply for work permits are available from the Immigration and Citizenship Canada website: canada.ca/en/immigration-refugees-citizenship/services/study-canada/work/intern.html Safety Abroad All students who travel outside of Canada for their internship should ensure that they register their travel in advance with the University of Toronto Safety Abroad Registry. The Safety Abroad office is dedicated to supporting safer student experiences abroad, and can offer support and emergency assistance. What is an applied research internship? An applied research internship usually involves research aggregation, namely the exploration and synthesis of research results into an evaluation, study, or demonstrable, industrially relevant prototype. In the service of a company, it is expected that you will leverage your graduate academic training and past experience to explore new initiatives, improvements in process or product, or new designs that could be of potential impact. Your internship may require you to work on explorations that an industry partner company might not otherwise perform. This requires a higher standard of creative or intellectual exploration than would normally be encountered in a co-operative (co-op) work term. For example, a role consisting only of programming tasks would likely not qualify as a research internship. That said, the scope of the MScAC internship may also involve coding or systems development that leads to a contribution to the company’s product or service offering.\n",
      "\n",
      "[2] COURSE INFORMATION Course Overview The MScAC program is a 16-month applied research program designed to educate the next generation of world-class innovators. Students enrol in advanced graduate courses according to the concentration requirements. They also complete an eight-month applied research internship, usually paid, based at an industry partner. Typical program schedule for MScAC students Year 1 Semester 1: September – December Year 1 Semester 2: January – April Year 1 Semester 3: May – August Year 2 Semester 4: September – December CSC2701H CSC2701H CSC2702H CSC2702H Two approved graduate courses Two approved graduate courses Applied research internship Applied research Internship Resume preparation Internship search begins Industry partner nights MScAC Internship Expo & interviews Applied Research in Action (ARIA) Showcase + final report submission\n",
      "\n",
      "[3] IMPORTANT DATES 2025/26 Fall 2025 First draft of study plans due June 13 Pre-enrolment courses available to view July 23 Data Science Bootcamp (Data Science Concentration students only) July 7 – July 30 Registration opens July 14 Enrolment in MAT courses begins TBC Enrolment in CS Fall and Winter courses begins July 28 Enrolment in STA courses begins (Data Science concentration students) TBC MScAC Refresher Training (Linear algebra & probability) July 28 – August 1 Enrolment in PHY courses begins TBC Enrolment in ECE courses begins TBC Enrolment in CSB/MMG courses begins TBC Enrolment in STA courses beings (Other concentration students) TBC Recommended tuition fee payment deadline for fees applicable to the Fall semester. August 22 Orientation 2025 & Communication for Computer Scientists starts. MScAC Refresher Training will be delivered during this week. Week beginning August 25 Clearing admission conditions August 31 Fall graduate courses in CS begin* September 2 Registration ends. Payment deadline for any unpaid Fall semester tuition and fees. September 12 Final date to add Fall courses September 17 Final date to drop Fall courses without academic penalty October 27 MScAC Student Personal Time Off October 27 – October 31 Applied Research in Action (ARIA) November 13 Payment deadline for any unpaid Winter semester tuition and fees November 30 Fall term ends December 23 University closed for winter break December 24, 2025 – January 4, 2026 Winter 2026 University re-opens January 5 Winter graduate courses in CS begin* January 5 Fall 2025 course grades available January 14 Final date to add Winter courses January 19 MScAC Internship Expo January 19 – January 23 MScAC Student Personal Time Off February 16 – 20 Final date to drop Winter courses without academic penalty February 27 Winter term classes end April\n",
      "\n",
      "Question: \n",
      "When does the Internship search start?\n",
      "\n",
      "\n",
      "Answer:\n",
      "\n",
      "================================================================================\n",
      "ANSWER:\n",
      "================================================================================\n",
      "The internship search begins in Year 1, Semester 3 (May - August). This is indicated in the typical program schedule for MScAC students [2].\n"
     ]
    }
   ],
   "source": [
    "query_3 = \"\"\"\n",
    "When does the Internship search start?\n",
    "\"\"\"\n",
    "\n",
    "response_3 = rag(query_3, top_k=3)\n",
    "print(\"\\n\" + \"=\"*80)\n",
    "print(\"ANSWER:\")\n",
    "print(\"=\"*80)\n",
    "print(response_3)"
   ]
  }
 ],
 "metadata": {
  "kernelspec": {
   "display_name": ".venv",
   "language": "python",
   "name": "python3"
  },
  "language_info": {
   "codemirror_mode": {
    "name": "ipython",
    "version": 3
   },
   "file_extension": ".py",
   "mimetype": "text/x-python",
   "name": "python",
   "nbconvert_exporter": "python",
   "pygments_lexer": "ipython3",
   "version": "3.13.5"
  }
 },
 "nbformat": 4,
 "nbformat_minor": 4
}
