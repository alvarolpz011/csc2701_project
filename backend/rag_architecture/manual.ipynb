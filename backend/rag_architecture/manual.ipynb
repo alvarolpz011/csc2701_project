{
 "cells": [
  {
   "cell_type": "code",
   "execution_count": 1,
   "metadata": {},
   "outputs": [
    {
     "name": "stderr",
     "output_type": "stream",
     "text": [
      "/Users/alvaro/miniforge3/envs/csc2701/lib/python3.11/site-packages/tqdm/auto.py:21: TqdmWarning: IProgress not found. Please update jupyter and ipywidgets. See https://ipywidgets.readthedocs.io/en/stable/user_install.html\n",
      "  from .autonotebook import tqdm as notebook_tqdm\n"
     ]
    }
   ],
   "source": [
    "from src.rag_architecture.rag import RAG"
   ]
  },
  {
   "cell_type": "code",
   "execution_count": 2,
   "metadata": {},
   "outputs": [],
   "source": [
    "rag = RAG(\n",
    "    embedding_model_name='all-MiniLM-L6-v2',\n",
    "    language_model_name='gemini-2.5-flash-lite'\n",
    ")"
   ]
  },
  {
   "cell_type": "code",
   "execution_count": 3,
   "metadata": {},
   "outputs": [
    {
     "name": "stdout",
     "output_type": "stream",
     "text": [
      "[ScoredPoint(id=11, version=2, score=0.5819036, payload={'header': 'COURSE SELECTION', 'content': 'Applied Mathematics Concentration\\nStudents are required to complete:\\n• 2 graduate courses (1.0 FCE) from the Department of Computer Science course schedule in\\ntwo different groups\\n• 2 graduate courses (1.0 FCE) from the Department of Mathematics at 1000-level or higher', 'document_title': 'handbook.txt'}, vector=None, shard_key=None, order_value=None), ScoredPoint(id=13, version=2, score=0.47472823, payload={'header': '8', 'content': 'Computer Science Concentration\\nStudents are required to complete:\\n• 4 graduate courses (2.0 FCE) from at least 2 of the 4 course groups. A maximum of 1 course\\n(0.5 FCE) from Group 2 (AI) will be counted towards the program requirements.\\n• 2 courses (1.0 FCE) must be from the Computer Science timetable (i.e. CSCXXXX course code).\\n• 2 courses (1.0 FCE) may be chosen from other departments pending approval by the MScAC\\nprogram.\\nData Science Concentration\\nStudents are required to complete:\\n• 2 graduate courses (1.0 FCE) from the Department of Computer Science course listings in two\\ndifferent groups.\\n• 2 graduate courses (1.0 FCE) chosen from the STA2000-level courses or higher. This must\\ninclude STA2453H Data Science Methods, Collaboration and Communication. A maximum of\\n0.5 FCE may be chosen from the STA4500-level of six-week modular courses. Note that some\\ncourses at STA4500 level and higher are six-week modular courses weighted at 0.25 FCE\\neach.\\nCourses from other departments may be eligible to fulfill the statistics requirements. Course selection\\nmust be approved by the Data Science Concentration Lead.\\nData Science for Biology\\nStudents are required to complete:\\n• 2 graduate courses (1.0 FCE) from the Department of Computer Science course listings in two\\ndifferent groups.\\n• 1 graduate course (0.5 FCE) from the Department of Cell & Systems Biology.\\n• 1 graduate course (0.5 FCE) with a focus on computational biology or bioinformatics chosen\\nfrom the approved course lists from the following departments: Cell & Systems Biology,\\nEcology & Evolutionary Biology, Molecular Genetics or Statistics.\\nQuantum Computing Concentration\\nStudents are required to complete:\\n• 2 graduate courses (1.0 FCE) from the Department of Computer Science course listings in two\\ndifferent groups.\\n• 2 graduate courses (1.0 FCE) from the Department of Physics.\\nCourses from other departments may be eligible to fulfil the physics requirements.\\nAll course selections are subject to approval by the Academic Director, Professional Programs\\nwho may consult the relevant concentration lead as appropriate. Course substitutions may be\\npossible with approval of the Academic Director.\\nAdditional information and considerations\\nTo choose courses, start by reading the course descriptions, and correlating these with the courses\\noffered in the 2025-26 course schedule.\\nBreadth is important because you may find that your interests evolve as you become inspired by new\\ntopics or become fascinated by emerging areas of application to industry. We strongly encourage you to\\nwork with the MScAC program team and your respective concentration lead to seek out a varied set of', 'document_title': 'handbook.txt'}, vector=None, shard_key=None, order_value=None), ScoredPoint(id=10, version=2, score=0.45609057, payload={'header': 'COURSE REQUIREMENTS', 'content': 'Students will spend the first eight months (two semesters) of the program completing their technical\\ngraduate courses as well as CSC2701H (Communication for Computer Scientists). CSC2702H\\n(Technical Entrepreneurship) will be completed during the second eight months, normally in\\nconjunction with the full-time applied research internship.\\nAll students must complete a minimum of four technical graduate courses, in accordance with their\\nconcentration requirements. These must be equivalent to at least 2.0 Full Course Equivalents (FCEs)\\nand all students must show satisfactory academic progress (defined as a minimum passing grade of B-\\n(70%) in each course). If a student has not made satisfactory academic progress by the end of\\nthe second semester, they must immediately contact the Associate Director, MScAC\\nAdministration to determine the options and next steps.\\nIt is an individual student’s responsibility to ensure course selection meets the requirements of the\\nconcentration they are registered in. Degree Explorer should be utilized to ensure requirements are\\nmet. Students who have not met their concentration requirements by the end of the second semester\\nwill be required to take additional courses.\\nOnly students who make satisfactory academic progress in the first two semesters may proceed to the\\ninternship component of the program.', 'document_title': 'handbook.txt'}, vector=None, shard_key=None, order_value=None)]\n",
      "\n",
      "================================================================================\n",
      "ANSWER:\n",
      "================================================================================\n",
      "I don't have enough information in the provided context to answer this question fully.\n",
      "\n",
      "While the context mentions that \"All course selections are subject to approval by the Academic Director, Professional Programs who may consult the relevant concentration lead as appropriate,\" it does not provide information on whether changing concentrations is possible or who specifically approves such a change. Additionally, there is no information about the email addresses of any approving bodies or individuals.\n",
      "\n",
      "Regarding the Quantum Computing concentration, here are the specific course requirements:\n",
      "\n",
      "*   2 graduate courses (1.0 FCE) from the Department of Computer Science course listings in two different groups.\n",
      "*   2 graduate courses (1.0 FCE) from the Department of Physics.\n",
      "\n",
      "The context does not detail how these requirements differ from other concentrations, nor does it mention any prerequisites or recommended academic backgrounds for students interested in this concentration or its internships. It also does not provide information on the typical timeline for securing an internship within the Quantum Computing concentration or any specific application windows.\n"
     ]
    }
   ],
   "source": [
    "query_1 = \"\"\"\n",
    "Is it possible for me to change my concentration? If so, who do I need to get it approved by? What's their email?\n",
    "I am interested in internships offered via the Quantum Computing concentration.\n",
    "\"\"\"\n",
    "\n",
    "response_1 = rag(query_1, top_k=3)\n",
    "print(\"\\n\" + \"=\"*80)\n",
    "print(\"ANSWER:\")\n",
    "print(\"=\"*80)\n",
    "print(response_1)"
   ]
  },
  {
   "cell_type": "code",
   "execution_count": 4,
   "metadata": {},
   "outputs": [
    {
     "name": "stdout",
     "output_type": "stream",
     "text": [
      "[ScoredPoint(id=13, version=2, score=0.72489226, payload={'header': '8', 'content': 'Computer Science Concentration\\nStudents are required to complete:\\n• 4 graduate courses (2.0 FCE) from at least 2 of the 4 course groups. A maximum of 1 course\\n(0.5 FCE) from Group 2 (AI) will be counted towards the program requirements.\\n• 2 courses (1.0 FCE) must be from the Computer Science timetable (i.e. CSCXXXX course code).\\n• 2 courses (1.0 FCE) may be chosen from other departments pending approval by the MScAC\\nprogram.\\nData Science Concentration\\nStudents are required to complete:\\n• 2 graduate courses (1.0 FCE) from the Department of Computer Science course listings in two\\ndifferent groups.\\n• 2 graduate courses (1.0 FCE) chosen from the STA2000-level courses or higher. This must\\ninclude STA2453H Data Science Methods, Collaboration and Communication. A maximum of\\n0.5 FCE may be chosen from the STA4500-level of six-week modular courses. Note that some\\ncourses at STA4500 level and higher are six-week modular courses weighted at 0.25 FCE\\neach.\\nCourses from other departments may be eligible to fulfill the statistics requirements. Course selection\\nmust be approved by the Data Science Concentration Lead.\\nData Science for Biology\\nStudents are required to complete:\\n• 2 graduate courses (1.0 FCE) from the Department of Computer Science course listings in two\\ndifferent groups.\\n• 1 graduate course (0.5 FCE) from the Department of Cell & Systems Biology.\\n• 1 graduate course (0.5 FCE) with a focus on computational biology or bioinformatics chosen\\nfrom the approved course lists from the following departments: Cell & Systems Biology,\\nEcology & Evolutionary Biology, Molecular Genetics or Statistics.\\nQuantum Computing Concentration\\nStudents are required to complete:\\n• 2 graduate courses (1.0 FCE) from the Department of Computer Science course listings in two\\ndifferent groups.\\n• 2 graduate courses (1.0 FCE) from the Department of Physics.\\nCourses from other departments may be eligible to fulfil the physics requirements.\\nAll course selections are subject to approval by the Academic Director, Professional Programs\\nwho may consult the relevant concentration lead as appropriate. Course substitutions may be\\npossible with approval of the Academic Director.\\nAdditional information and considerations\\nTo choose courses, start by reading the course descriptions, and correlating these with the courses\\noffered in the 2025-26 course schedule.\\nBreadth is important because you may find that your interests evolve as you become inspired by new\\ntopics or become fascinated by emerging areas of application to industry. We strongly encourage you to\\nwork with the MScAC program team and your respective concentration lead to seek out a varied set of', 'document_title': 'handbook.txt'}, vector=None, shard_key=None, order_value=None), ScoredPoint(id=11, version=2, score=0.6290307, payload={'header': 'COURSE SELECTION', 'content': 'Applied Mathematics Concentration\\nStudents are required to complete:\\n• 2 graduate courses (1.0 FCE) from the Department of Computer Science course schedule in\\ntwo different groups\\n• 2 graduate courses (1.0 FCE) from the Department of Mathematics at 1000-level or higher', 'document_title': 'handbook.txt'}, vector=None, shard_key=None, order_value=None), ScoredPoint(id=5, version=2, score=0.57735705, payload={'header': 'IMPORTANT DATES 2025/26', 'content': 'Fall 2025\\nFirst draft of study plans due June 13\\nPre-enrolment courses available to view July 23\\nData Science Bootcamp (Data Science Concentration students only) July 7 – July 30\\nRegistration opens July 14\\nEnrolment in MAT courses begins TBC\\nEnrolment in CS Fall and Winter courses begins July 28\\nEnrolment in STA courses begins\\n(Data Science concentration students) TBC\\nMScAC Refresher Training (Linear algebra & probability) July 28 – August 1\\nEnrolment in PHY courses begins TBC\\nEnrolment in ECE courses begins TBC\\nEnrolment in CSB/MMG courses begins TBC\\nEnrolment in STA courses beings\\n(Other concentration students) TBC\\nRecommended tuition fee payment deadline for fees applicable to the Fall\\nsemester. August 22\\nOrientation 2025 & Communication for Computer Scientists starts. MScAC\\nRefresher Training will be delivered during this week. Week beginning August 25\\nClearing admission conditions August 31\\nFall graduate courses in CS begin* September 2\\nRegistration ends. Payment deadline for any unpaid Fall semester tuition\\nand fees. September 12\\nFinal date to add Fall courses September 17\\nFinal date to drop Fall courses without academic penalty October 27\\nMScAC Student Personal Time Off October 27 – October 31\\nApplied Research in Action (ARIA) November 13\\nPayment deadline for any unpaid Winter semester tuition and fees November 30\\nFall term ends December 23\\nUniversity closed for winter break December 24, 2025 –\\nJanuary 4, 2026\\nWinter 2026\\nUniversity re-opens January 5\\nWinter graduate courses in CS begin* January 5\\nFall 2025 course grades available January 14\\nFinal date to add Winter courses January 19\\nMScAC Internship Expo January 19 – January 23\\nMScAC Student Personal Time Off February 16 – 20\\nFinal date to drop Winter courses without academic penalty February 27\\nWinter term classes end April', 'document_title': 'handbook.txt'}, vector=None, shard_key=None, order_value=None)]\n",
      "\n",
      "================================================================================\n",
      "ANSWER:\n",
      "================================================================================\n",
      "For the Data Science concentration, you are required to complete a total of 4 graduate courses.\n",
      "\n",
      "Here's the breakdown:\n",
      "\n",
      "*   **2 graduate courses (1.0 FCE)** must be from the Department of Computer Science course listings, and they need to be from two different groups within CS.\n",
      "*   **2 graduate courses (1.0 FCE)** must be chosen from STA2000-level courses or higher. This selection **must include STA2453H Data Science Methods, Collaboration and Communication**. A maximum of 0.5 FCE can be taken from the STA4500-level six-week modular courses.\n",
      "\n",
      "The provided context does not list specific course codes and names beyond STA2453H. It also does not mention any prerequisite courses required before starting the Data Science concentration.\n",
      "\n",
      "Regarding when to declare your concentration, the context doesn't specify a deadline for declaring your concentration within the MScAC program.\n"
     ]
    }
   ],
   "source": [
    "query_2 = \"\"\"\n",
    "How many courses do I need to take for the Data Science concentration?\n",
    "\"\"\"\n",
    "\n",
    "response_2 = rag(query_2, top_k=3)\n",
    "print(\"\\n\" + \"=\"*80)\n",
    "print(\"ANSWER:\")\n",
    "print(\"=\"*80)\n",
    "print(response_2)"
   ]
  },
  {
   "cell_type": "code",
   "execution_count": 5,
   "metadata": {},
   "outputs": [
    {
     "name": "stdout",
     "output_type": "stream",
     "text": [
      "[ScoredPoint(id=17, version=2, score=0.50262237, payload={'header': '11', 'content': 'the intended industry partner to determine whether a project meets the program requirements. They will\\ndiscuss MScAC program details with the industry partner so that there is a clear understanding of the\\nrequirements for a satisfactory applied research internship. This is critical since some companies may\\nnot fully appreciate the uniqueness of an applied research internship (compared to a co-op). In our\\nexperience, many typical co-op positions do not qualify as MScAC research internships and thus do not\\nmeet the MScAC program degree requirements.\\nIt is critical that once a student has identified a possible internship opportunity, they:\\n• Provide a member of the Partnerships group with a brief description of the proposed internship\\nproject and\\n• Connect a member of the Partnerships group with the point of contact at the organization so that\\nthe program requirements can be discussed. You must not accept an internship offer that has\\nnot been approved by the MScAC Partnerships group.\\nThe project template and guidelines for employers will be available via the Quercus Student Hub\\n(course code: CSC2703H).\\nFinding an internship through the MScAC Program\\nThe typical internship-finding timeline for projects identified by our MScAC Partnerships group is as\\nfollows.\\nTypical Internship-Finding Timeline\\nJune 2025 – September 2025\\n• Students meet 1:1 with a member of the Partnerships group to discuss internship interests.\\nSeptember 2025 – January 2026\\n• Students prepare a one-page resume. Between late October and January 2026, we iterate with\\nall students on their resumes to ensure the content is clear and accurate. Students also receive\\ntraining in how to conduct the internship search through “The Job Hunt” module in CSC2701H\\n(Communication for Computer Scientists). The MScAC Partnerships group will begin soliciting\\nprojects from companies interested in hosting MScAC students for applied-research internships.\\nJanuary 8, 2026\\n• Students will start reviewing the curated internship positions the program has identified.\\nConcurrently, industry partners with accepted internship projects will be given access to MScAC\\nstudent resumes. We encourage all students to send expressions of interest to industry partners\\nwith projects of interest to them.\\nWeek beginning January 19, 2026\\n• Industry partners visit campus for the multi-day MScAC Internship Expo. Students are strongly\\nencouraged to participate in all aspects of this event, including attending talks and meeting\\nindustry partners. During and following this event, industry partners may contact you (and you\\nshould contact them) for information and to schedule interviews. This process normally takes 2-\\n4 weeks but may go on longer as you become more aware of the diverse range of opportunities.\\nEarly February until all students have found an internship\\n• Offer system opens. For an offer to be considered official by the program, an industry partner\\nmust upload the offer into the MScAC Offer Management System. Students may only accept an\\noffer via the Offer Management System. Verbal offers made during the internship finding process\\nare not considered official and we strongly advise against declining interview opportunities or\\nother offers on the basis of these. Instead, only consider an offer official once it has been made\\nand accepted through the MScAC system.', 'document_title': 'handbook.txt'}, vector=None, shard_key=None, order_value=None), ScoredPoint(id=18, version=2, score=0.4954171, payload={'header': '12', 'content': 'All internships must be approved by the Academic Director, Professional Programs and have a\\nstart date during the first week of May. Further details of the internship process will be given over\\nthe course of the program.\\nChoosing your internship\\nStudents may receive multiple internship offers. In considering which offer to accept we strongly\\nrecommend looking beyond the compensation level to a number of more important factors:\\n• Quality of the research on offer\\n• Work environment you will be exposed to\\n• Team you will be working with\\n• Supervision you will receive\\n• Possibilities for personal growth and professional development.\\nRemember that the internship is the research component of the degree and addressing an interesting\\nchallenge will help with future career plans.\\nSome of the most rewarding internships that past students undertook were with non-profit companies or\\nstart-ups. These organizations may not have the ability to match salaries of larger firms but may\\ncompensate for this in other ways.\\nCompensation\\nThe MScAC Partnerships group advise all industry partners that the average funding level was\\napproximately $65K (CDN) over eight months for the previous year’s cohort. They also inform them of\\nvarious mechanisms they can use to help offset some of their costs. However, the average salary is not\\na mandatory requirement and the internship compensation is decided by the industry partner. We will not\\nnegotiate compensation with the company on behalf of any students.\\nInternship supervision\\nAfter accepting an internship offer from a company/organization, students are expected to find their\\nacademic supervisor (a University of Toronto faculty member) with whom they will meet to address the\\nintellectual challenges of the research over the course of the internship. We require MScAC students to\\nformally meet with their academic supervisors a minimum of six times over the course of the internship\\nand provide suggested checkpoints accordingly. Each student will also have an industry supervisor\\nappointed by the company, to whom they will report. It is beneficial—but not required—for the academic\\nand industry supervisors to meet, so they can establish an effective plan to guide the internship work.\\nSelecting an academic supervisor\\nWhen selecting an academic supervisor, we recommend that students think broadly about who would be\\nsuitable for the internship project. Students should look beyond faculty they have met during the courses,\\nbearing in mind that faculty can be selected from the MScAC collaborating departments and faculties\\n(Cell & Systems Biology, Computer Science, Engineering, Mathematics, Medicine, Statistics, Physics).\\nThere may also be suitable faculty elsewhere in the University.\\nOther criteria you should consider includes:\\n• Availability: Will they be available to meet for regular supervisory meetings and sign documents\\nwhen they are due?\\n• Collegiality and Interpersonal Relationship: Does the communication and work style match?\\nWhat will be the working relationship be like?\\n• Expected Internship Goals: What is the goal for the internship? Does this supervisor have the', 'document_title': 'handbook.txt'}, vector=None, shard_key=None, order_value=None), ScoredPoint(id=21, version=2, score=0.48104823, payload={'header': '15', 'content': 'To gain approval, we require the following documentation:\\nFrom the internship company/organization\\n• A formal letter on company/organization letterhead outlining:\\no The activity being participated in. If the proposed activity is a course or TAship, the course\\ncode and title should be included.\\no Days and times of the activity\\no A rationale for why this activity is essential to the internship\\no Confirmation of approval from the host of the internship\\nFrom you\\n• A formal request outlining the reasons for participating in the specific activity.\\nThese should be sent by e-mail, with the industry supervisor cc’ed, to the Associate Director, MScAC\\nAdministration who will let student know if the request is approved.\\nNote: students who are requesting to enrol in courses during the internship should be aware that priority\\nin courses will be given to those students who need courses to meet their program requirements.\\nApproval to enrol in high demand courses may not be granted.\\nCompleting the Internship & Graduating from the MScAC Program\\nIn early November 2026, we will distribute the documentation required to formally complete the degree.\\nThis will include the formal sign-off forms that require signatures from the industry and academic\\nsupervisors for the internship report, an “MScAC Completion” form and “Convocation Completion” form\\nwith the latter two submitted to the MScAC Program Office. Once these documents are submitted and\\naccepted, MScAC will submit a “Recommendation for a Master’s Degree” to the School of Graduate\\nStudies and each student will be added to the convocation register. A graduation package will be sent\\nfrom the Office of Convocation with information regarding convocation dates, tickets, etc. Please note\\nthat, while the program formally concludes by December 31, 2026, the degree will not be confirmed\\ncomplete until January 2027. We will notify students when their individual degree recommendation has\\nbeen submitted.\\nTransition to PhD\\nStudents often express an interest in applying to the PhD program, following completion of their MScAC\\ndegree. There are two options to progress to the PhD program in the Department of Computer Science, at\\nthe University of Toronto. Criteria for each option is listed below. If you are considering either of the two\\noptions, please contact team@mscac.utoronto.ca so that the MScAC team can best support you.\\nOption 1\\n• Can only be used if:\\no Your intended academic supervisor is a faculty member in Computer Science with a CS-\\nSGS membership*\\no Your intended academic supervisor has confirmed that they are willing to supervise your\\nPhD studies.\\no You intend to start your PhD immediately after completion of the MScAC (January).\\n*If your intended academic supervisor is not from Computer Science, please confirm the specific\\nprocess with their respective department. The above process will not apply.', 'document_title': 'handbook.txt'}, vector=None, shard_key=None, order_value=None)]\n",
      "\n",
      "================================================================================\n",
      "ANSWER:\n",
      "================================================================================\n",
      "The internship search begins in September 2025, when students start preparing their resumes and receive training on how to conduct their internship search. Concurrently, the MScAC Partnerships group begins soliciting projects from interested companies.\n",
      "\n",
      "Regarding eligibility criteria for securing an internship, the context emphasizes that the internship must be an applied research internship that meets the program requirements. It is critical that students provide a brief description of the proposed internship project to the Partnerships group and connect them with the point of contact at the organization for discussion. Students must not accept an internship offer that has not been approved by the MScAC Partnerships group.\n",
      "\n",
      "The typical timeline for the internship application and placement process is as follows:\n",
      "*   **June 2025 – September 2025:** Students meet with the Partnerships group to discuss internship interests.\n",
      "*   **September 2025 – January 2026:** Students prepare resumes and receive internship search training. The Partnerships group solicits projects from companies.\n",
      "*   **January 8, 2026:** Students begin reviewing curated internship positions. Industry partners gain access to student resumes.\n",
      "*   **Week beginning January 19, 2026:** The MScAC Internship Expo takes place, where industry partners visit campus. Students are encouraged to attend and network.\n",
      "*   **Early February until all students have found an internship:** The offer system opens, and official offers are made and accepted through the MScAC Offer Management System.\n",
      "\n",
      "You can find information about potential internship employers through the MScAC Partnerships group. They will begin soliciting projects from companies interested in hosting MScAC students, and students will be able to review curated internship positions identified by the program. The MScAC Internship Expo is also a key event for meeting industry partners. Additionally, the project template and guidelines for employers are available via the Quercus Student Hub (course code: CSC2703H).\n"
     ]
    }
   ],
   "source": [
    "query_3 = \"\"\"\n",
    "When does the Internship search start?\n",
    "\"\"\"\n",
    "\n",
    "response_3 = rag(query_3, top_k=3)\n",
    "print(\"\\n\" + \"=\"*80)\n",
    "print(\"ANSWER:\")\n",
    "print(\"=\"*80)\n",
    "print(response_3)"
   ]
  }
 ],
 "metadata": {
  "kernelspec": {
   "display_name": "csc2701",
   "language": "python",
   "name": "python3"
  },
  "language_info": {
   "codemirror_mode": {
    "name": "ipython",
    "version": 3
   },
   "file_extension": ".py",
   "mimetype": "text/x-python",
   "name": "python",
   "nbconvert_exporter": "python",
   "pygments_lexer": "ipython3",
   "version": "3.11.13"
  }
 },
 "nbformat": 4,
 "nbformat_minor": 4
}
