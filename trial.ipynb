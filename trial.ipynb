{
 "cells": [
  {
   "cell_type": "code",
   "execution_count": 1,
   "id": "4bd4389d",
   "metadata": {},
   "outputs": [
    {
     "name": "stdout",
     "output_type": "stream",
     "text": [
      "Max Verstappen is a phenomenon in Formula 1, and there are many interesting facts about him. Here are some of the most notable ones:\n",
      "\n",
      "**Early Career & Records:**\n",
      "\n",
      "*   **Youngest Ever F1 Driver:** Max made his Formula 1 debut at the incredibly young age of **17 years and 166 days** at the 2015 Australian Grand Prix, driving for Toro Rosso.\n",
      "*   **Youngest Ever Race Winner:** He shattered records again by winning his **first-ever Formula 1 race**, the 2016 Spanish Grand Prix, at just **18 years and 228 days old**. This was also his debut race with Red Bull Racing.\n",
      "*   **Youngest Grand Prix Pole Sitter:** He achieved this feat at the 2021 Belgian Grand Prix at the age of 18 years and 310 days.\n",
      "*   **Youngest World Champion:** Max became the youngest Formula 1 World Champion in history in **2021**, at the age of **24 years and 73 days**.\n",
      "\n",
      "**Dominance and Achievements:**\n",
      "\n",
      "*   **Multiple World Champion:** He is a **three-time Formula 1 World Champion**, securing titles in **2021, 2022, and 2023**.\n",
      "*   **Dominant 2022 and 2023 Seasons:** His 2022 and 2023 seasons were incredibly dominant, with him winning the championship with races to spare and setting numerous records for wins in a single season.\n",
      "*   **Most Wins in a Single Season:** He holds the record for the most wins in a single Formula 1 season with **19 wins in 2023**.\n",
      "*   **Highest Win Percentage:** He boasts one of the highest win percentages for drivers with a significant number of starts.\n",
      "*   **Most Consecutive Wins:** He holds the record for the most consecutive Formula 1 victories, achieving **10 wins in a row in 2023**.\n",
      "\n",
      "**Personal Life & Background:**\n",
      "\n",
      "*   **Dutch Nationality, Belgian Roots:** While he races under the Dutch flag, Max was born in Hasselt, Belgium, to a Belgian mother and a Dutch father. His father, Jos Verstappen, was also a Formula 1 driver.\n",
      "*   **Karting Prodigy:** His talent was evident from a young age in karting, where he achieved significant success, including a World Championship title in 2013.\n",
      "*   **Intense Training:** He is known for his incredibly rigorous physical and mental training regimen.\n",
      "*   **\"Mad Max\" Nickname (though he prefers not to be called that):** Early in his career, his aggressive and fearless driving style earned him the nickname \"Mad Max.\" While he's matured and refined his approach, the moniker occasionally resurfaces.\n",
      "*   **Private Person:** Despite his global fame, Max is known for being quite private about his personal life.\n",
      "*   **Uses Number 33:** He primarily races with the car number 33, a choice inspired by his karting days. He also has the option to switch to car number 1 as the reigning World Champion, which he has done in recent seasons.\n",
      "\n",
      "**Driving Style & Reputation:**\n",
      "\n",
      "*   **Aggressive but Calculated:** He is renowned for his aggressive overtakes and fighting spirit, but as he's matured, this has been coupled with a more calculated and strategic approach.\n",
      "*   **Exceptional Car Control:** His ability to control a car at the absolute limit is legendary.\n",
      "*   **Relentless Competitor:** He is a fierce competitor who never gives up, even when starting from a disadvantage.\n",
      "\n",
      "These are just some of the many interesting facts about Max Verstappen. His impact on Formula 1 has been immense, and he continues to write new chapters in the sport's history."
     ]
    }
   ],
   "source": [
    "import base64\n",
    "import os\n",
    "from dotenv import load_dotenv\n",
    "from google import genai\n",
    "from google.genai import types\n",
    "\n",
    "# Load environment variables from .env file\n",
    "load_dotenv()\n",
    "\n",
    "\n",
    "def generate():\n",
    "    client = genai.Client(\n",
    "        api_key=os.environ.get(\"ADI_GOOGLE_AI_STUDIO_API_KEY\"),\n",
    "    )\n",
    "\n",
    "    model = \"gemini-2.5-flash-lite\"\n",
    "    contents = [\n",
    "        types.Content(\n",
    "            role=\"user\",\n",
    "            parts=[\n",
    "                types.Part.from_text(text=\"\"\"Tell me some facts about Max Verstappen\"\"\"),\n",
    "            ],\n",
    "        ),\n",
    "    ]\n",
    "    generate_content_config = types.GenerateContentConfig(\n",
    "        thinking_config = types.ThinkingConfig(\n",
    "            thinking_budget=0,\n",
    "        ),\n",
    "    )\n",
    "\n",
    "    for chunk in client.models.generate_content_stream(\n",
    "        model=model,\n",
    "        contents=contents,\n",
    "        config=generate_content_config,\n",
    "    ):\n",
    "        print(chunk.text, end=\"\")\n",
    "\n",
    "if __name__ == \"__main__\":\n",
    "    generate()\n"
   ]
  },
  {
   "cell_type": "code",
   "execution_count": null,
   "id": "79047326",
   "metadata": {},
   "outputs": [],
   "source": []
  }
 ],
 "metadata": {
  "kernelspec": {
   "display_name": ".venv",
   "language": "python",
   "name": "python3"
  },
  "language_info": {
   "codemirror_mode": {
    "name": "ipython",
    "version": 3
   },
   "file_extension": ".py",
   "mimetype": "text/x-python",
   "name": "python",
   "nbconvert_exporter": "python",
   "pygments_lexer": "ipython3",
   "version": "3.13.5"
  }
 },
 "nbformat": 4,
 "nbformat_minor": 5
}
